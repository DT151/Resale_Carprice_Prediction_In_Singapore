{
 "cells": [
  {
   "cell_type": "markdown",
   "id": "9dd40e53",
   "metadata": {},
   "source": [
    "<h1>(ML)Resale Car Price Prediction in Singapore"
   ]
  },
  {
   "cell_type": "markdown",
   "id": "98a527e9",
   "metadata": {},
   "source": [
    "Capstone Project 12 Mar 2022 by Derek Tan"
   ]
  },
  {
   "cell_type": "markdown",
   "id": "8d93fa43",
   "metadata": {},
   "source": [
    "Reference:\n",
    "\n",
    "https://www.sgcarmart.com/main/about_us.php\n",
    "\n",
    "\n",
    "https://github.com/xianjinseow92/Data-Science-Projects/tree/master/Project_2_SgCarMart%20Price%20Prediction\n"
   ]
  },
  {
   "cell_type": "markdown",
   "id": "50e60d38",
   "metadata": {},
   "source": [
    "demo1 : https://www.sgcarmart.com/used_cars/info.php?ID=1070098&DL=3734&GASRC=dy (Lamborgini Urus)(SUV)\n",
    "\n",
    "\n",
    "demo2 : https://www.sgcarmart.com/used_cars/info.php?ID=1078684&DL=1000 (Porsche Cayman GTS 3.4A PDK)(Sports Car)"
   ]
  },
  {
   "cell_type": "markdown",
   "id": "9668fa6a",
   "metadata": {},
   "source": [
    "<h1>Importing some libraries"
   ]
  },
  {
   "cell_type": "code",
   "execution_count": 1,
   "id": "446fb5de",
   "metadata": {},
   "outputs": [],
   "source": [
    "# Data analysis and cleaning\n",
    "import pandas as pd\n",
    "import numpy as np\n",
    "import missingno as msno\n",
    "\n",
    "# Data Vizualization\n",
    "import seaborn as sns\n",
    "import matplotlib.pyplot as plt\n",
    "%matplotlib inline\n",
    "\n",
    "# Data preprocessing and machine learning train_test_split\n",
    "from sklearn.model_selection import train_test_split\n",
    "from sklearn.preprocessing import LabelEncoder\n",
    "from sklearn.preprocessing import StandardScaler\n",
    "\n",
    "# Model \n",
    "from sklearn.linear_model import LinearRegression\n",
    "from sklearn.model_selection import KFold\n",
    "from xgboost import XGBRegressor\n",
    "from sklearn.ensemble import GradientBoostingRegressor\n",
    "from sklearn.tree import DecisionTreeRegressor\n",
    "from sklearn.ensemble import RandomForestRegressor\n",
    "\n",
    "# Model evaluation \n",
    "from sklearn.model_selection import cross_val_score\n",
    "from sklearn.metrics import r2_score\n",
    "from sklearn.metrics import mean_absolute_error\n",
    "from sklearn.metrics import mean_squared_error\n",
    "\n",
    "# Deployment\n",
    "import joblib"
   ]
  },
  {
   "cell_type": "code",
   "execution_count": 3,
   "id": "5f17b6dd",
   "metadata": {},
   "outputs": [],
   "source": [
    "#loading the new dataset\n",
    "df2 = pd.read_csv('mlsgcarmartclean.csv')"
   ]
  },
  {
   "cell_type": "code",
   "execution_count": 4,
   "id": "9e6ba44e",
   "metadata": {},
   "outputs": [
    {
     "data": {
      "text/html": [
       "<div>\n",
       "<style scoped>\n",
       "    .dataframe tbody tr th:only-of-type {\n",
       "        vertical-align: middle;\n",
       "    }\n",
       "\n",
       "    .dataframe tbody tr th {\n",
       "        vertical-align: top;\n",
       "    }\n",
       "\n",
       "    .dataframe thead th {\n",
       "        text-align: right;\n",
       "    }\n",
       "</style>\n",
       "<table border=\"1\" class=\"dataframe\">\n",
       "  <thead>\n",
       "    <tr style=\"text-align: right;\">\n",
       "      <th></th>\n",
       "      <th>Unnamed: 0</th>\n",
       "      <th>BRAND</th>\n",
       "      <th>PRICE</th>\n",
       "      <th>DEPRE_VALUE_PER_YEAR</th>\n",
       "      <th>MILEAGE_KM</th>\n",
       "      <th>MANUFACTURED_YEAR</th>\n",
       "      <th>TRANSMISSION</th>\n",
       "      <th>OMV</th>\n",
       "      <th>COE_FROM_SCRAPE_DATE</th>\n",
       "      <th>DAYS_OF_COE_LEFT</th>\n",
       "      <th>ENGINE_CAPACITY_CC</th>\n",
       "      <th>CURB_WEIGHT_KG</th>\n",
       "      <th>NO_OF_OWNERS</th>\n",
       "      <th>VEHICLE_TYPE</th>\n",
       "    </tr>\n",
       "  </thead>\n",
       "  <tbody>\n",
       "    <tr>\n",
       "      <th>0</th>\n",
       "      <td>1</td>\n",
       "      <td>3</td>\n",
       "      <td>215388.0</td>\n",
       "      <td>20270.0</td>\n",
       "      <td>12000.0</td>\n",
       "      <td>2020</td>\n",
       "      <td>0</td>\n",
       "      <td>56927.0</td>\n",
       "      <td>39500.0</td>\n",
       "      <td>3191.0</td>\n",
       "      <td>1998.0</td>\n",
       "      <td>1470.0</td>\n",
       "      <td>2.0</td>\n",
       "      <td>1</td>\n",
       "    </tr>\n",
       "    <tr>\n",
       "      <th>1</th>\n",
       "      <td>2</td>\n",
       "      <td>31</td>\n",
       "      <td>147777.0</td>\n",
       "      <td>15950.0</td>\n",
       "      <td>40000.0</td>\n",
       "      <td>2019</td>\n",
       "      <td>0</td>\n",
       "      <td>26008.0</td>\n",
       "      <td>33520.0</td>\n",
       "      <td>3043.0</td>\n",
       "      <td>1595.0</td>\n",
       "      <td>1435.0</td>\n",
       "      <td>1.0</td>\n",
       "      <td>4</td>\n",
       "    </tr>\n",
       "    <tr>\n",
       "      <th>2</th>\n",
       "      <td>3</td>\n",
       "      <td>29</td>\n",
       "      <td>68888.0</td>\n",
       "      <td>11100.0</td>\n",
       "      <td>63000.0</td>\n",
       "      <td>2017</td>\n",
       "      <td>0</td>\n",
       "      <td>19513.0</td>\n",
       "      <td>50526.0</td>\n",
       "      <td>1922.0</td>\n",
       "      <td>1998.0</td>\n",
       "      <td>1535.0</td>\n",
       "      <td>1.0</td>\n",
       "      <td>2</td>\n",
       "    </tr>\n",
       "    <tr>\n",
       "      <th>3</th>\n",
       "      <td>5</td>\n",
       "      <td>20</td>\n",
       "      <td>50800.0</td>\n",
       "      <td>9120.0</td>\n",
       "      <td>133000.0</td>\n",
       "      <td>2016</td>\n",
       "      <td>0</td>\n",
       "      <td>14626.0</td>\n",
       "      <td>50951.0</td>\n",
       "      <td>1735.0</td>\n",
       "      <td>1591.0</td>\n",
       "      <td>1295.0</td>\n",
       "      <td>2.0</td>\n",
       "      <td>3</td>\n",
       "    </tr>\n",
       "    <tr>\n",
       "      <th>4</th>\n",
       "      <td>6</td>\n",
       "      <td>26</td>\n",
       "      <td>74388.0</td>\n",
       "      <td>15320.0</td>\n",
       "      <td>87000.0</td>\n",
       "      <td>2016</td>\n",
       "      <td>0</td>\n",
       "      <td>22821.0</td>\n",
       "      <td>56089.0</td>\n",
       "      <td>1583.0</td>\n",
       "      <td>1499.0</td>\n",
       "      <td>1115.0</td>\n",
       "      <td>1.0</td>\n",
       "      <td>0</td>\n",
       "    </tr>\n",
       "  </tbody>\n",
       "</table>\n",
       "</div>"
      ],
      "text/plain": [
       "   Unnamed: 0  BRAND     PRICE  DEPRE_VALUE_PER_YEAR  MILEAGE_KM  \\\n",
       "0           1      3  215388.0               20270.0     12000.0   \n",
       "1           2     31  147777.0               15950.0     40000.0   \n",
       "2           3     29   68888.0               11100.0     63000.0   \n",
       "3           5     20   50800.0                9120.0    133000.0   \n",
       "4           6     26   74388.0               15320.0     87000.0   \n",
       "\n",
       "   MANUFACTURED_YEAR  TRANSMISSION      OMV  COE_FROM_SCRAPE_DATE  \\\n",
       "0               2020             0  56927.0               39500.0   \n",
       "1               2019             0  26008.0               33520.0   \n",
       "2               2017             0  19513.0               50526.0   \n",
       "3               2016             0  14626.0               50951.0   \n",
       "4               2016             0  22821.0               56089.0   \n",
       "\n",
       "   DAYS_OF_COE_LEFT  ENGINE_CAPACITY_CC  CURB_WEIGHT_KG  NO_OF_OWNERS  \\\n",
       "0            3191.0              1998.0          1470.0           2.0   \n",
       "1            3043.0              1595.0          1435.0           1.0   \n",
       "2            1922.0              1998.0          1535.0           1.0   \n",
       "3            1735.0              1591.0          1295.0           2.0   \n",
       "4            1583.0              1499.0          1115.0           1.0   \n",
       "\n",
       "   VEHICLE_TYPE  \n",
       "0             1  \n",
       "1             4  \n",
       "2             2  \n",
       "3             3  \n",
       "4             0  "
      ]
     },
     "execution_count": 4,
     "metadata": {},
     "output_type": "execute_result"
    }
   ],
   "source": [
    "df2.head()"
   ]
  },
  {
   "cell_type": "code",
   "execution_count": 5,
   "id": "8f7da181",
   "metadata": {},
   "outputs": [],
   "source": [
    "df2.drop(['Unnamed: 0'],axis=1, inplace=True)"
   ]
  },
  {
   "cell_type": "markdown",
   "id": "e80287ba",
   "metadata": {},
   "source": [
    "<h1>Preparing for data"
   ]
  },
  {
   "cell_type": "code",
   "execution_count": 6,
   "id": "e6b494e5",
   "metadata": {},
   "outputs": [],
   "source": [
    "X = df2.drop(['PRICE'],axis=1)\n",
    "y = df2['PRICE']"
   ]
  },
  {
   "cell_type": "markdown",
   "id": "06e48f6d",
   "metadata": {},
   "source": [
    "<h1>Train Test Split Data"
   ]
  },
  {
   "cell_type": "code",
   "execution_count": 7,
   "id": "193bf207",
   "metadata": {},
   "outputs": [
    {
     "name": "stdout",
     "output_type": "stream",
     "text": [
      "Number transactions X_train dataset:  (4254, 12)\n",
      "Number transactions y_train dataset:  (4254,)\n",
      "Number transactions X_test dataset:  (1064, 12)\n",
      "Number transactions y_test dataset:  (1064,)\n"
     ]
    }
   ],
   "source": [
    "X_train, X_test, y_train, y_test = train_test_split(X, y, test_size=0.2, random_state=42)\n",
    "\n",
    "# scaler = StandardScaler()\n",
    "# X_train = scaler.fit_transform(X_train)\n",
    "# X_test = scaler.fit_transform(X_test)\n",
    "\n",
    "print(\"Number transactions X_train dataset: \", X_train.shape)\n",
    "print(\"Number transactions y_train dataset: \", y_train.shape)\n",
    "print(\"Number transactions X_test dataset: \", X_test.shape)\n",
    "print(\"Number transactions y_test dataset: \", y_test.shape)"
   ]
  },
  {
   "cell_type": "code",
   "execution_count": 8,
   "id": "d92e1310",
   "metadata": {},
   "outputs": [],
   "source": [
    "kfold = KFold(n_splits = 10, random_state = 42, shuffle=True)"
   ]
  },
  {
   "cell_type": "markdown",
   "id": "e1e29f67",
   "metadata": {},
   "source": [
    "<h1>Linear Regression"
   ]
  },
  {
   "cell_type": "code",
   "execution_count": 9,
   "id": "78822a14",
   "metadata": {},
   "outputs": [
    {
     "name": "stdout",
     "output_type": "stream",
     "text": [
      "Train Score: 0.8255790717900826\n",
      "Test Score: 0.8178178864112006\n",
      "Linear Regression, Cross-Validation Mean Score: 0.8207\n"
     ]
    }
   ],
   "source": [
    "reg = LinearRegression()\n",
    "reg.fit(X_train, y_train)\n",
    "results = cross_val_score(reg, X_train, y_train, cv = kfold)\n",
    "print('Train Score:', reg.score(X_train, y_train))\n",
    "print('Test Score:', reg.score(X_test, y_test))\n",
    "print('Linear Regression, Cross-Validation Mean Score: %.4f' % results.mean())"
   ]
  },
  {
   "cell_type": "code",
   "execution_count": 10,
   "id": "4b9a1181",
   "metadata": {},
   "outputs": [],
   "source": [
    "y_pred = reg.predict(X_test)"
   ]
  },
  {
   "cell_type": "code",
   "execution_count": 11,
   "id": "7d5f92d2",
   "metadata": {},
   "outputs": [
    {
     "data": {
      "text/plain": [
       "0.8178178864112006"
      ]
     },
     "execution_count": 11,
     "metadata": {},
     "output_type": "execute_result"
    }
   ],
   "source": [
    "r2_score(y_test, y_pred)"
   ]
  },
  {
   "cell_type": "code",
   "execution_count": 12,
   "id": "0ea63576",
   "metadata": {},
   "outputs": [
    {
     "name": "stdout",
     "output_type": "stream",
     "text": [
      "MAE:  27848.941151954394\n",
      "MSE:  2352435395.051663\n",
      "RSME:  48501.91125153382\n"
     ]
    }
   ],
   "source": [
    "y_pred = reg.predict(X_test)\n",
    "\n",
    "print('MAE: ',mean_absolute_error(y_test,y_pred))\n",
    "print('MSE: ',mean_squared_error(y_test,y_pred))\n",
    "print('RSME: ',np.sqrt(mean_squared_error(y_test,y_pred)))"
   ]
  },
  {
   "cell_type": "code",
   "execution_count": 13,
   "id": "de4ae19f",
   "metadata": {},
   "outputs": [
    {
     "data": {
      "image/png": "[encoded data removed]",
      "text/plain": [
       "<Figure size 720x360 with 1 Axes>"
      ]
     },
     "metadata": {
      "needs_background": "light"
     },
     "output_type": "display_data"
    }
   ],
   "source": [
    "plt.figure(figsize=(10,5))\n",
    "plt.scatter(y_test,y_pred)\n",
    "plt.plot(y_test,y_test,'r')\n",
    "plt.title('Linear Regression Model Predictions vs Perfect Fit')\n",
    "plt.xlabel('Actual Prices')\n",
    "plt.ylabel('Model Price Predictions')\n",
    "plt.show()"
   ]
  },
  {
   "cell_type": "markdown",
   "id": "0c49d594",
   "metadata": {},
   "source": [
    "<h1>Neural Network"
   ]
  },
  {
   "cell_type": "code",
   "execution_count": 14,
   "id": "24acd9f8",
   "metadata": {},
   "outputs": [],
   "source": [
    "# #double check the columns for input_dim\n",
    "# X.shape"
   ]
  },
  {
   "cell_type": "code",
   "execution_count": 15,
   "id": "d2cf1fce",
   "metadata": {},
   "outputs": [],
   "source": [
    "# # creating a model\n",
    "# from tensorflow.keras.models import Sequential\n",
    "# from tensorflow.keras.layers import Dense, Activation\n",
    "# from tensorflow.keras.optimizers import Adam\n",
    "\n",
    "# models = Sequential()\n",
    "\n",
    "# # input layer\n",
    "# models.add(Dense(15,input_dim=15,activation='relu'))\n",
    "\n",
    "# # # hidden layers\n",
    "# models.add(Dense(15,activation='relu'))\n",
    "# models.add(Dense(50,activation='relu'))\n",
    "# models.add(Dense(15,activation='relu'))\n",
    "\n",
    "\n",
    "\n",
    "# # output layer\n",
    "# models.add(Dense(1,input_dim=15, activation='linear'))\n",
    "\n",
    "# models.compile(optimizer='adam',loss='mse')\n",
    "\n"
   ]
  },
  {
   "cell_type": "code",
   "execution_count": 16,
   "id": "43e5653a",
   "metadata": {
    "scrolled": true
   },
   "outputs": [],
   "source": [
    "# %%time\n",
    "# models.fit(x=X_train,y=y_train.values,\n",
    "#           validation_data=(X_test,y_test.values),\n",
    "#           batch_size=128,epochs=400)"
   ]
  },
  {
   "cell_type": "code",
   "execution_count": 17,
   "id": "e6bf6d35",
   "metadata": {},
   "outputs": [],
   "source": [
    "# losses = pd.DataFrame(models.history.history)\n",
    "\n",
    "# plt.figure(figsize=(15,5))\n",
    "# sns.lineplot(data=losses,lw=3)\n",
    "# plt.xlabel('Epochs')\n",
    "# plt.title('Training Loss per Epoch')\n",
    "# sns.despine()"
   ]
  },
  {
   "cell_type": "code",
   "execution_count": 18,
   "id": "99552144",
   "metadata": {},
   "outputs": [],
   "source": [
    "# # predictions on the test set\n",
    "# nn_predictions = models.predict(X_test)\n",
    "\n",
    "# print('MAE: ',mean_absolute_error(y_test,nn_predictions))\n",
    "# print('MSE: ',mean_squared_error(y_test,nn_predictions))\n",
    "# print('RMSE: ',np.sqrt(mean_squared_error(y_test,nn_predictions)))"
   ]
  },
  {
   "cell_type": "code",
   "execution_count": 19,
   "id": "e619f706",
   "metadata": {},
   "outputs": [],
   "source": [
    "# plt.figure(figsize=(10,5))\n",
    "# plt.scatter(y_test,nn_predictions)\n",
    "# plt.plot(y_test,y_test,'r')\n",
    "# plt.title('Neural Network Model Predictions vs Perfect Fit')\n",
    "# plt.xlabel('Actual Prices')\n",
    "# plt.ylabel('Model Price Predictions')\n",
    "# plt.show()"
   ]
  },
  {
   "cell_type": "markdown",
   "id": "5fee1260",
   "metadata": {},
   "source": [
    "<h1>XG Boost Regressor"
   ]
  },
  {
   "cell_type": "code",
   "execution_count": 20,
   "id": "661648b4",
   "metadata": {},
   "outputs": [
    {
     "name": "stdout",
     "output_type": "stream",
     "text": [
      "XG Boost Regressor Train Score: 0.9998239414145619\n",
      "XG Boost Regressor Test Score: 0.9823119808774532\n",
      "XG Boost Regressor, Cross-Validation Mean Score: 0.9826\n"
     ]
    }
   ],
   "source": [
    "xgb_model = XGBRegressor()\n",
    "xgb_model.fit(X_train,y_train)\n",
    "\n",
    "xgb_results = cross_val_score(xgb_model, X_train, y_train, cv = kfold)\n",
    "print('XG Boost Regressor Train Score:', xgb_model.score(X_train, y_train))\n",
    "print('XG Boost Regressor Test Score:', xgb_model.score(X_test, y_test))\n",
    "print('XG Boost Regressor, Cross-Validation Mean Score: %.4f' % xgb_results.mean())"
   ]
  },
  {
   "cell_type": "code",
   "execution_count": 21,
   "id": "8a761ac6",
   "metadata": {},
   "outputs": [
    {
     "name": "stdout",
     "output_type": "stream",
     "text": [
      "MAE:  5893.046266942993\n",
      "MSE:  228397406.48825034\n",
      "RMSE:  15112.822585084838\n"
     ]
    }
   ],
   "source": [
    "xgb_predictions = xgb_model.predict(X_test)\n",
    "\n",
    "print('MAE: ',mean_absolute_error(y_test,xgb_predictions))\n",
    "print('MSE: ',mean_squared_error(y_test,xgb_predictions))\n",
    "print('RMSE: ',np.sqrt(mean_squared_error(y_test,xgb_predictions)))"
   ]
  },
  {
   "cell_type": "code",
   "execution_count": 22,
   "id": "63149445",
   "metadata": {},
   "outputs": [
    {
     "data": {
      "image/png": "[encoded data removed]",
      "text/plain": [
       "<Figure size 720x360 with 1 Axes>"
      ]
     },
     "metadata": {
      "needs_background": "light"
     },
     "output_type": "display_data"
    }
   ],
   "source": [
    "plt.figure(figsize=(10,5))\n",
    "plt.scatter(y_test,xgb_predictions)\n",
    "plt.plot(y_test,y_test,'r')\n",
    "plt.title('xgboost Regressor Model Predictions vs Perfect Fit')\n",
    "plt.xlabel('Actual Prices')\n",
    "plt.ylabel('Model Price Predictions')\n",
    "plt.show()"
   ]
  },
  {
   "cell_type": "markdown",
   "id": "39128db2",
   "metadata": {},
   "source": [
    "<h1>Gradient Boosting Regressor"
   ]
  },
  {
   "cell_type": "code",
   "execution_count": 23,
   "id": "25f830c1",
   "metadata": {},
   "outputs": [
    {
     "name": "stdout",
     "output_type": "stream",
     "text": [
      "Train Score: 0.991395359120084\n",
      "Test Score: 0.9749049575261534\n",
      "Gradient Boosting Regressor, Cross-Validation Mean Score: 0.9787\n"
     ]
    }
   ],
   "source": [
    "gbr = GradientBoostingRegressor(learning_rate=0.2, max_depth=10,\n",
    "                          min_samples_split=100, n_estimators=20)\n",
    "gbr.fit(X_train,y_train)\n",
    "\n",
    "gbr_results = cross_val_score(gbr, X_train, y_train, cv = kfold)\n",
    "print('Train Score:', gbr.score(X_train, y_train))\n",
    "print('Test Score:', gbr.score(X_test, y_test))\n",
    "print('Gradient Boosting Regressor, Cross-Validation Mean Score: %.4f' % gbr_results.mean())\n",
    "\n",
    "gbr_predictions = gbr.predict(X_test)"
   ]
  },
  {
   "cell_type": "code",
   "execution_count": 24,
   "id": "258f3072",
   "metadata": {},
   "outputs": [
    {
     "name": "stdout",
     "output_type": "stream",
     "text": [
      "Gradient Boosting Regressor MAE:  7274.477578460913\n",
      "Gradient Boosting Regressor MSE:  324040955.46419793\n",
      "Gradient Boosting Regressor RMSE:  18001.137615834115\n"
     ]
    }
   ],
   "source": [
    "print('Gradient Boosting Regressor MAE: ',mean_absolute_error(y_test,gbr_predictions))\n",
    "print('Gradient Boosting Regressor MSE: ',mean_squared_error(y_test,gbr_predictions))\n",
    "print('Gradient Boosting Regressor RMSE: ',np.sqrt(mean_squared_error(y_test,gbr_predictions)))"
   ]
  },
  {
   "cell_type": "code",
   "execution_count": 25,
   "id": "6987576d",
   "metadata": {},
   "outputs": [
    {
     "data": {
      "image/png": "[encoded data removed]",
      "text/plain": [
       "<Figure size 720x360 with 1 Axes>"
      ]
     },
     "metadata": {
      "needs_background": "light"
     },
     "output_type": "display_data"
    }
   ],
   "source": [
    "plt.figure(figsize=(10,5))\n",
    "plt.scatter(y_test,gbr_predictions)\n",
    "plt.plot(y_test,y_test,'r')\n",
    "plt.title('Gradient Boosting Regressor Model Predictions vs Perfect Fit')\n",
    "plt.xlabel('Actual Prices')\n",
    "plt.ylabel('Model Price Predictions')\n",
    "plt.show()"
   ]
  },
  {
   "cell_type": "markdown",
   "id": "16baae93",
   "metadata": {},
   "source": [
    "<h1> GridsearchCV on Gradient Boosting Regressor"
   ]
  },
  {
   "cell_type": "code",
   "execution_count": 26,
   "id": "f36cde3d",
   "metadata": {},
   "outputs": [],
   "source": [
    "# from sklearn.model_selection import GridSearchCV\n",
    "\n",
    "# params = {'n_estimators':range(20,1001,10),\n",
    "#               'max_depth':[10], #range(5,16,2), \n",
    "#               'min_samples_split':[100], #range(200,1001,200), \n",
    "#               'learning_rate':[0.2]}"
   ]
  },
  {
   "cell_type": "code",
   "execution_count": 27,
   "id": "6d4e246c",
   "metadata": {},
   "outputs": [],
   "source": [
    "# searchgbr = GridSearchCV(estimator=gbr, \n",
    "#                    param_grid = params, \n",
    "#                          n_jobs=-1)"
   ]
  },
  {
   "cell_type": "code",
   "execution_count": 28,
   "id": "86705cf7",
   "metadata": {},
   "outputs": [],
   "source": [
    "# %%time\n",
    "# smgbr = searchgbr.fit(X_train,y_train)"
   ]
  },
  {
   "cell_type": "code",
   "execution_count": 29,
   "id": "0bb8c576",
   "metadata": {
    "scrolled": true
   },
   "outputs": [],
   "source": [
    "# smgbr.best_estimator_"
   ]
  },
  {
   "cell_type": "markdown",
   "id": "665956e5",
   "metadata": {},
   "source": [
    "<h1>Decision Tree"
   ]
  },
  {
   "cell_type": "code",
   "execution_count": 30,
   "id": "29b53039",
   "metadata": {},
   "outputs": [
    {
     "name": "stdout",
     "output_type": "stream",
     "text": [
      "Train Score: 1.0\n",
      "Test Score: 0.9257208254322324\n",
      "Decision Tree, Cross-Validation Mean Score: 0.9618\n"
     ]
    }
   ],
   "source": [
    "dt = DecisionTreeRegressor()\n",
    "dt.fit(X_train,y_train)\n",
    "\n",
    "dt_results = cross_val_score(dt, X_train, y_train, cv = kfold)\n",
    "print('Train Score:', dt.score(X_train, y_train))\n",
    "print('Test Score:', dt.score(X_test, y_test))\n",
    "print('Decision Tree, Cross-Validation Mean Score: %.4f' % dt_results.mean())"
   ]
  },
  {
   "cell_type": "code",
   "execution_count": 31,
   "id": "a524c575",
   "metadata": {},
   "outputs": [
    {
     "name": "stdout",
     "output_type": "stream",
     "text": [
      "MAE:  10684.267857142857\n",
      "MSE:  959133451.2828947\n",
      "RMSE:  30969.87974279033\n"
     ]
    }
   ],
   "source": [
    "dt_predictions = dt.predict(X_test)\n",
    "\n",
    "print('MAE: ',mean_absolute_error(y_test,dt_predictions))\n",
    "print('MSE: ',mean_squared_error(y_test,dt_predictions))\n",
    "print('RMSE: ',np.sqrt(mean_squared_error(y_test,dt_predictions)))"
   ]
  },
  {
   "cell_type": "code",
   "execution_count": 32,
   "id": "92812b64",
   "metadata": {},
   "outputs": [
    {
     "data": {
      "image/png": "[encoded data removed]",
      "text/plain": [
       "<Figure size 720x360 with 1 Axes>"
      ]
     },
     "metadata": {
      "needs_background": "light"
     },
     "output_type": "display_data"
    }
   ],
   "source": [
    "plt.figure(figsize=(10,5))\n",
    "plt.scatter(y_test,dt_predictions)\n",
    "plt.plot(y_test,y_test,'r')\n",
    "plt.title('Decision Tree Regressor Model Predictions vs Perfect Fit')\n",
    "plt.xlabel('Actual Prices')\n",
    "plt.ylabel('Model Price Predictions')\n",
    "plt.show()"
   ]
  },
  {
   "cell_type": "markdown",
   "id": "ec0f3db0",
   "metadata": {},
   "source": [
    "<h1>Random Forest"
   ]
  },
  {
   "cell_type": "code",
   "execution_count": 33,
   "id": "dc7d9067",
   "metadata": {},
   "outputs": [
    {
     "name": "stdout",
     "output_type": "stream",
     "text": [
      "Train Score: 0.9982043361632152\n",
      "Test Score: 0.9833544759432128\n",
      "Random Forest, Cross-Validation Mean Score: 0.9862\n"
     ]
    }
   ],
   "source": [
    "rf = RandomForestRegressor(n_estimators=200 ,random_state=42,max_depth=20, max_features=10, n_jobs=-1)\n",
    "rf.fit(X_train,y_train)\n",
    "\n",
    "rf_results = cross_val_score(rf, X_train, y_train, cv = kfold)\n",
    "print('Train Score:', rf.score(X_train, y_train))\n",
    "print('Test Score:', rf.score(X_test, y_test))\n",
    "print('Random Forest, Cross-Validation Mean Score: %.4f' % rf_results.mean())"
   ]
  },
  {
   "cell_type": "markdown",
   "id": "7bd89aa1",
   "metadata": {},
   "source": [
    "<h1> GridsearchCV on Random Forest"
   ]
  },
  {
   "cell_type": "code",
   "execution_count": 34,
   "id": "eb8cd8da",
   "metadata": {},
   "outputs": [],
   "source": [
    "# from sklearn.model_selection import GridSearchCV\n",
    "\n",
    "# params = {'n_estimators': [50,200,300,400,500,600,700], \n",
    "#          'max_depth' : [5,10,15,20,25],\n",
    "#          'max_features' : [2,4,6,8,10]}"
   ]
  },
  {
   "cell_type": "code",
   "execution_count": 35,
   "id": "d86ad019",
   "metadata": {},
   "outputs": [],
   "source": [
    "# search = GridSearchCV(estimator=rf,\n",
    "#                      param_grid= params,\n",
    "#                      n_jobs = -1)"
   ]
  },
  {
   "cell_type": "code",
   "execution_count": 36,
   "id": "dc8ee23d",
   "metadata": {},
   "outputs": [],
   "source": [
    "# %%time\n",
    "# sm = search.fit(X_train,y_train)"
   ]
  },
  {
   "cell_type": "code",
   "execution_count": 37,
   "id": "0e54126a",
   "metadata": {},
   "outputs": [],
   "source": [
    "# sm.best_estimator_"
   ]
  },
  {
   "cell_type": "code",
   "execution_count": 38,
   "id": "00ebf6bd",
   "metadata": {},
   "outputs": [
    {
     "name": "stdout",
     "output_type": "stream",
     "text": [
      "MAE:  5649.822884077357\n",
      "MSE:  214936138.29045823\n",
      "RMSE:  14660.700470661634\n"
     ]
    }
   ],
   "source": [
    "rf_predictions = rf.predict(X_test)\n",
    "\n",
    "print('MAE: ',mean_absolute_error(y_test,rf_predictions))\n",
    "print('MSE: ',mean_squared_error(y_test,rf_predictions))\n",
    "print('RMSE: ',np.sqrt(mean_squared_error(y_test,rf_predictions)))"
   ]
  },
  {
   "cell_type": "code",
   "execution_count": 39,
   "id": "20740066",
   "metadata": {
    "scrolled": true
   },
   "outputs": [
    {
     "data": {
      "image/png": "[encoded data removed]",
      "text/plain": [
       "<Figure size 720x360 with 1 Axes>"
      ]
     },
     "metadata": {
      "needs_background": "light"
     },
     "output_type": "display_data"
    }
   ],
   "source": [
    "plt.figure(figsize=(10,5))\n",
    "plt.scatter(y_test,rf_predictions)\n",
    "plt.plot(y_test,y_test,'r')\n",
    "plt.title('Random Forest Model Predictions vs Perfect Fit')\n",
    "plt.xlabel('Actual Prices')\n",
    "plt.ylabel('Model Price Predictions')\n",
    "plt.show()"
   ]
  },
  {
   "cell_type": "markdown",
   "id": "07d35fa1",
   "metadata": {},
   "source": [
    "<H1>Deployment(Flask)"
   ]
  },
  {
   "cell_type": "code",
   "execution_count": 40,
   "id": "8704e29a",
   "metadata": {},
   "outputs": [
    {
     "data": {
      "text/plain": [
       "['final_model.pkl']"
      ]
     },
     "execution_count": 40,
     "metadata": {},
     "output_type": "execute_result"
    }
   ],
   "source": [
    "joblib.dump(rf,'final_model.pkl')\n",
    "# models.save(\"price_prediction_model.h5\")"
   ]
  },
  {
   "cell_type": "code",
   "execution_count": 41,
   "id": "60cd1b13",
   "metadata": {
    "scrolled": true
   },
   "outputs": [
    {
     "data": {
      "text/html": [
       "<div>\n",
       "<style scoped>\n",
       "    .dataframe tbody tr th:only-of-type {\n",
       "        vertical-align: middle;\n",
       "    }\n",
       "\n",
       "    .dataframe tbody tr th {\n",
       "        vertical-align: top;\n",
       "    }\n",
       "\n",
       "    .dataframe thead th {\n",
       "        text-align: right;\n",
       "    }\n",
       "</style>\n",
       "<table border=\"1\" class=\"dataframe\">\n",
       "  <thead>\n",
       "    <tr style=\"text-align: right;\">\n",
       "      <th></th>\n",
       "      <th>BRAND</th>\n",
       "      <th>PRICE</th>\n",
       "      <th>DEPRE_VALUE_PER_YEAR</th>\n",
       "      <th>MILEAGE_KM</th>\n",
       "      <th>MANUFACTURED_YEAR</th>\n",
       "      <th>TRANSMISSION</th>\n",
       "      <th>OMV</th>\n",
       "      <th>COE_FROM_SCRAPE_DATE</th>\n",
       "      <th>DAYS_OF_COE_LEFT</th>\n",
       "      <th>ENGINE_CAPACITY_CC</th>\n",
       "      <th>CURB_WEIGHT_KG</th>\n",
       "      <th>NO_OF_OWNERS</th>\n",
       "      <th>VEHICLE_TYPE</th>\n",
       "    </tr>\n",
       "  </thead>\n",
       "  <tbody>\n",
       "    <tr>\n",
       "      <th>0</th>\n",
       "      <td>3</td>\n",
       "      <td>215388.0</td>\n",
       "      <td>20270.0</td>\n",
       "      <td>12000.0</td>\n",
       "      <td>2020</td>\n",
       "      <td>0</td>\n",
       "      <td>56927.0</td>\n",
       "      <td>39500.0</td>\n",
       "      <td>3191.0</td>\n",
       "      <td>1998.0</td>\n",
       "      <td>1470.0</td>\n",
       "      <td>2.0</td>\n",
       "      <td>1</td>\n",
       "    </tr>\n",
       "    <tr>\n",
       "      <th>1</th>\n",
       "      <td>31</td>\n",
       "      <td>147777.0</td>\n",
       "      <td>15950.0</td>\n",
       "      <td>40000.0</td>\n",
       "      <td>2019</td>\n",
       "      <td>0</td>\n",
       "      <td>26008.0</td>\n",
       "      <td>33520.0</td>\n",
       "      <td>3043.0</td>\n",
       "      <td>1595.0</td>\n",
       "      <td>1435.0</td>\n",
       "      <td>1.0</td>\n",
       "      <td>4</td>\n",
       "    </tr>\n",
       "    <tr>\n",
       "      <th>2</th>\n",
       "      <td>29</td>\n",
       "      <td>68888.0</td>\n",
       "      <td>11100.0</td>\n",
       "      <td>63000.0</td>\n",
       "      <td>2017</td>\n",
       "      <td>0</td>\n",
       "      <td>19513.0</td>\n",
       "      <td>50526.0</td>\n",
       "      <td>1922.0</td>\n",
       "      <td>1998.0</td>\n",
       "      <td>1535.0</td>\n",
       "      <td>1.0</td>\n",
       "      <td>2</td>\n",
       "    </tr>\n",
       "    <tr>\n",
       "      <th>3</th>\n",
       "      <td>20</td>\n",
       "      <td>50800.0</td>\n",
       "      <td>9120.0</td>\n",
       "      <td>133000.0</td>\n",
       "      <td>2016</td>\n",
       "      <td>0</td>\n",
       "      <td>14626.0</td>\n",
       "      <td>50951.0</td>\n",
       "      <td>1735.0</td>\n",
       "      <td>1591.0</td>\n",
       "      <td>1295.0</td>\n",
       "      <td>2.0</td>\n",
       "      <td>3</td>\n",
       "    </tr>\n",
       "    <tr>\n",
       "      <th>4</th>\n",
       "      <td>26</td>\n",
       "      <td>74388.0</td>\n",
       "      <td>15320.0</td>\n",
       "      <td>87000.0</td>\n",
       "      <td>2016</td>\n",
       "      <td>0</td>\n",
       "      <td>22821.0</td>\n",
       "      <td>56089.0</td>\n",
       "      <td>1583.0</td>\n",
       "      <td>1499.0</td>\n",
       "      <td>1115.0</td>\n",
       "      <td>1.0</td>\n",
       "      <td>0</td>\n",
       "    </tr>\n",
       "  </tbody>\n",
       "</table>\n",
       "</div>"
      ],
      "text/plain": [
       "   BRAND     PRICE  DEPRE_VALUE_PER_YEAR  MILEAGE_KM  MANUFACTURED_YEAR  \\\n",
       "0      3  215388.0               20270.0     12000.0               2020   \n",
       "1     31  147777.0               15950.0     40000.0               2019   \n",
       "2     29   68888.0               11100.0     63000.0               2017   \n",
       "3     20   50800.0                9120.0    133000.0               2016   \n",
       "4     26   74388.0               15320.0     87000.0               2016   \n",
       "\n",
       "   TRANSMISSION      OMV  COE_FROM_SCRAPE_DATE  DAYS_OF_COE_LEFT  \\\n",
       "0             0  56927.0               39500.0            3191.0   \n",
       "1             0  26008.0               33520.0            3043.0   \n",
       "2             0  19513.0               50526.0            1922.0   \n",
       "3             0  14626.0               50951.0            1735.0   \n",
       "4             0  22821.0               56089.0            1583.0   \n",
       "\n",
       "   ENGINE_CAPACITY_CC  CURB_WEIGHT_KG  NO_OF_OWNERS  VEHICLE_TYPE  \n",
       "0              1998.0          1470.0           2.0             1  \n",
       "1              1595.0          1435.0           1.0             4  \n",
       "2              1998.0          1535.0           1.0             2  \n",
       "3              1591.0          1295.0           2.0             3  \n",
       "4              1499.0          1115.0           1.0             0  "
      ]
     },
     "execution_count": 41,
     "metadata": {},
     "output_type": "execute_result"
    }
   ],
   "source": [
    "df2.head()"
   ]
  }
 ],
 "metadata": {
  "kernelspec": {
   "display_name": "Python 3 (ipykernel)",
   "language": "python",
   "name": "python3"
  },
  "language_info": {
   "codemirror_mode": {
    "name": "ipython",
    "version": 3
   },
   "file_extension": ".py",
   "mimetype": "text/x-python",
   "name": "python",
   "nbconvert_exporter": "python",
   "pygments_lexer": "ipython3",
   "version": "3.9.7"
  }
 },
 "nbformat": 4,
 "nbformat_minor": 5
}
